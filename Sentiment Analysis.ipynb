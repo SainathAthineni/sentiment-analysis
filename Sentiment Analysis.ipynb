{
 "cells": [
  {
   "cell_type": "code",
   "execution_count": null,
   "id": "0b33e9c3",
   "metadata": {},
   "outputs": [
    {
     "name": "stderr",
     "output_type": "stream",
     "text": [
      "[nltk_data] Downloading package vader_lexicon to\n",
      "[nltk_data]     C:\\Users\\500223133\\AppData\\Roaming\\nltk_data...\n",
      "[nltk_data]   Package vader_lexicon is already up-to-date!\n"
     ]
    },
    {
     "name": "stdout",
     "output_type": "stream",
     "text": [
      "Welcome to the Sentiment Analysis Tool!\n",
      "Type your feelings, and I'll analyze the sentiment for you.\n",
      "\n",
      "Enter your feelings (or 'exit' to quit): I am not feeling great\n",
      "Sentiment: Negative\n",
      "\n",
      "Enter your feelings (or 'exit' to quit): Why is the world so rude\n",
      "Sentiment: Negative\n",
      "\n",
      "Enter your feelings (or 'exit' to quit): Ohh its bad\n",
      "Sentiment: Negative\n"
     ]
    }
   ],
   "source": [
    "from nltk.sentiment import SentimentIntensityAnalyzer\n",
    "import nltk\n",
    "\n",
    "# Download resources for the NLTK library (only needs to be done once)\n",
    "nltk.download('vader_lexicon')\n",
    "\n",
    "def analyze_sentiment(text):\n",
    "    sia = SentimentIntensityAnalyzer()\n",
    "    sentiment_score = sia.polarity_scores(text)['compound']\n",
    "\n",
    "    if sentiment_score >= 0.05:\n",
    "        return 'Positive'\n",
    "    elif sentiment_score <= -0.05:\n",
    "        return 'Negative'\n",
    "    else:\n",
    "        return 'Neutral'\n",
    "\n",
    "def main():\n",
    "    print(\"Welcome to the Sentiment Analysis Tool!\")\n",
    "    print(\"Type your feelings, and I'll analyze the sentiment for you.\")\n",
    "    \n",
    "    while True:\n",
    "        user_input = input(\"\\nEnter your feelings (or 'exit' to quit): \")\n",
    "        \n",
    "        if user_input.lower() == 'exit':\n",
    "            print(\"Exiting the Sentiment Analysis Tool. Goodbye!\")\n",
    "            break\n",
    "        \n",
    "        sentiment_result = analyze_sentiment(user_input)\n",
    "        print(f\"Sentiment: {sentiment_result}\")\n",
    "\n",
    "if __name__ == \"__main__\":\n",
    "    main()\n"
   ]
  },
  {
   "cell_type": "code",
   "execution_count": null,
   "id": "bbdd79e1",
   "metadata": {},
   "outputs": [],
   "source": []
  }
 ],
 "metadata": {
  "kernelspec": {
   "display_name": "Python 3 (ipykernel)",
   "language": "python",
   "name": "python3"
  },
  "language_info": {
   "codemirror_mode": {
    "name": "ipython",
    "version": 3
   },
   "file_extension": ".py",
   "mimetype": "text/x-python",
   "name": "python",
   "nbconvert_exporter": "python",
   "pygments_lexer": "ipython3",
   "version": "3.9.7"
  }
 },
 "nbformat": 4,
 "nbformat_minor": 5
}  
